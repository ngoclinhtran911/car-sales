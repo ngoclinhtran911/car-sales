{
 "cells": [
  {
   "cell_type": "markdown",
   "id": "fabf3dd9",
   "metadata": {
    "id": "fabf3dd9"
   },
   "source": [
    "###  Case Study: Car Sales Data\n",
    "The \"Car Sales Data\" dataset is a tabular dataset that contains 1.000,000 rows of information on car sales from a car dealership over the course Of a year. The dataset includes nine columns of data for each car sale. \n",
    "\n",
    "The first column, \"Date,\" represents the date on which the car sale was made. The second column, \"Salesperson,\" provides the name Of the salesperson who made the sale. The third column, \"Customer Name,\" provides the name Of the customer who purchased the car.\n",
    "\n",
    "The next three columns relate to the car that was sold. \"Car Make\" indicates the make Of the car that was purchased, such as Toyota, Honda, Ford, Chevrolet, or Nissan. \"Car Model\" indicates the model of the car that was purchased, such as Corolla, Civic, F-150, Silverado, or Altima. \"Car Year\" indicates the year Of the car that was purchased, ranging from 2010 to 2022.\n",
    "\n",
    "The \"Sale Price\" column represents the sale price of the car in USD. The next column, \"Commission Rate,\" indicates the commission rate paid to the salesperson on the sale, ranging from 0.05 to 0.15. Finally. the \"Commission Earned\" column provides the amount Of commission earned by the salesperson on the sale.\n",
    "\n",
    "This dataset is useful for analyzing car sales trends over time and evaluating the performance of individual salespeople in the dealership. It can also be used for predicting sales performance and analyzing the impact Of different factors on car sales, such as car make, model, year, and salesperson performance.\n",
    "\n",
    "Description: This dataset contains information on car sales from a car dealership over the course of a year. The dataset includes the following columns:\n",
    "\n",
    "- Date: The date Of the car sale\n",
    "- Salesperson: The name Of the salesperson who made the sale\n",
    "- Customer Name: The name Of the customer who purchased the car\n",
    "- Car Make: The make Of the car that was purchased\n",
    "- Car Model: The model Of the car that was purchased\n",
    "- Car Year: The year Of the car that was purchased\n",
    "- Sale Price: The sale price Of the car in USD\n",
    "- Commission Rate: The commission rate paid to the salesperson on the sale\n",
    "- Commission Earned: The amount Of commission earned by the salesperson on the sale\n"
   ]
  },
  {
   "cell_type": "markdown",
   "id": "ad8395a2",
   "metadata": {
    "id": "ad8395a2"
   },
   "source": [
    "### Factors that affect commission rate\n",
    "\n",
    "Commission rate: date, customers name, car make, car model, car year, sale price, number of car sold of the salesperson"
   ]
  },
  {
   "cell_type": "markdown",
   "id": "a134d31a",
   "metadata": {
    "id": "a134d31a"
   },
   "source": [
    "**Có thể áp dụng thêm:**\n",
    "- Sử dụng OneHot Encoder\n",
    "- Tìm hiểu GridSearchCV để chọn hyperparameters (siêu tham số) tốt nhất cho một thuật toán bất kỳ.\n",
    "- Xây dựng bảng các chỉ số để chọn lựa model tốt nhất."
   ]
  },
  {
   "cell_type": "code",
   "execution_count": 1,
   "id": "5d05f186",
   "metadata": {
    "id": "5d05f186"
   },
   "outputs": [],
   "source": [
    "import pandas as pd\n",
    "df = pd.read_csv('./datasets/car_sales_data.csv')"
   ]
  },
  {
   "cell_type": "code",
   "execution_count": 2,
   "id": "e1f49f50",
   "metadata": {
    "id": "e1f49f50"
   },
   "outputs": [],
   "source": [
    "# Calculate number of car sold of the sales person"
   ]
  },
  {
   "cell_type": "code",
   "execution_count": 3,
   "id": "b18a4838",
   "metadata": {
    "id": "b18a4838"
   },
   "outputs": [],
   "source": [
    "salesperson_counts = df.groupby('Salesperson').agg({'Date': 'count'}).reset_index()\n",
    "salesperson_counts.rename(columns={'Date': 'Ncar_of_salesperson'}, inplace=True)"
   ]
  },
  {
   "cell_type": "code",
   "execution_count": 6,
   "id": "9d93218a",
   "metadata": {
    "id": "9d93218a"
   },
   "outputs": [],
   "source": [
    "df = pd.merge(df, salesperson_counts, left_on='Salesperson', right_on = 'Salesperson', how='left')"
   ]
  },
  {
   "cell_type": "code",
   "execution_count": null,
   "id": "3a95f255",
   "metadata": {
    "id": "3a95f255"
   },
   "outputs": [],
   "source": [
    "# Commission rate: date, customers name, car make, car model, car year, sale price, number of car sold of the salesperson"
   ]
  },
  {
   "cell_type": "code",
   "execution_count": 8,
   "id": "44aa13f9",
   "metadata": {
    "id": "44aa13f9"
   },
   "outputs": [],
   "source": [
    "from sklearn.preprocessing import LabelEncoder\n",
    "from sklearn.preprocessing import OneHotEncoder\n",
    "\n",
    "label_encoder = LabelEncoder()\n",
    "onehot = OneHotEncoder()"
   ]
  },
  {
   "cell_type": "code",
   "execution_count": 9,
   "id": "ce8afe11",
   "metadata": {
    "id": "ce8afe11"
   },
   "outputs": [],
   "source": [
    "columns_to_encode = ['Customer Name','Car Year', 'Date']\n",
    "\n",
    "for column in columns_to_encode:\n",
    "    df[column] = label_encoder.fit_transform(df[column])"
   ]
  },
  {
   "cell_type": "code",
   "execution_count": 10,
   "id": "dccb4c09",
   "metadata": {
    "id": "dccb4c09"
   },
   "outputs": [],
   "source": [
    "columns_to_onehot_encode = ['Car Make', 'Car Model']\n",
    "\n",
    "for column in columns_to_onehot_encode:\n",
    "    new_col = pd.DataFrame(onehot.fit_transform(df[[column]]).toarray(), columns = onehot.get_feature_names_out())\n",
    "    df.drop(column, axis = 1, inplace = True)\n",
    "    df = df.join(new_col)"
   ]
  },
  {
   "cell_type": "code",
   "execution_count": 33,
   "id": "c8d22a22",
   "metadata": {},
   "outputs": [],
   "source": [
    "dep_var = 'Commission Rate'"
   ]
  },
  {
   "cell_type": "code",
   "execution_count": 34,
   "id": "15e93bb1",
   "metadata": {},
   "outputs": [],
   "source": [
    "ind_var = list(df.columns)"
   ]
  },
  {
   "cell_type": "code",
   "execution_count": 35,
   "id": "95ed7104",
   "metadata": {},
   "outputs": [],
   "source": [
    "ind_var.remove(dep_var)"
   ]
  },
  {
   "cell_type": "code",
   "execution_count": 36,
   "id": "38e36b71",
   "metadata": {},
   "outputs": [],
   "source": [
    "ind_var.remove('Commission Earned')\n",
    "ind_var.remove('Salesperson')"
   ]
  },
  {
   "cell_type": "code",
   "execution_count": 37,
   "id": "e865e1a4",
   "metadata": {
    "id": "e865e1a4"
   },
   "outputs": [
    {
     "data": {
      "text/plain": [
       "['Date',\n",
       " 'Customer Name',\n",
       " 'Car Year',\n",
       " 'Sale Price',\n",
       " 'Ncar_of_salesperson',\n",
       " 'Car Make_Chevrolet',\n",
       " 'Car Make_Ford',\n",
       " 'Car Make_Honda',\n",
       " 'Car Make_Nissan',\n",
       " 'Car Make_Toyota',\n",
       " 'Car Model_Altima',\n",
       " 'Car Model_Civic',\n",
       " 'Car Model_Corolla',\n",
       " 'Car Model_F-150',\n",
       " 'Car Model_Silverado']"
      ]
     },
     "execution_count": 37,
     "metadata": {},
     "output_type": "execute_result"
    }
   ],
   "source": [
    "ind_var"
   ]
  },
  {
   "cell_type": "code",
   "execution_count": 38,
   "id": "00d2dc3d",
   "metadata": {
    "id": "00d2dc3d"
   },
   "outputs": [],
   "source": [
    "from sklearn.model_selection import train_test_split\n",
    "\n",
    "train_data, test_data = train_test_split(df, train_size = 0.8, random_state=10, shuffle=True)\n",
    "X_train, X_test = train_data[ind_var], test_data[ind_var]\n",
    "y_train, y_test = train_data[dep_var], test_data[dep_var]"
   ]
  },
  {
   "cell_type": "code",
   "execution_count": 39,
   "id": "b6402414",
   "metadata": {
    "id": "b6402414"
   },
   "outputs": [],
   "source": [
    "from sklearn.preprocessing import StandardScaler\n",
    "\n",
    "scaler = StandardScaler()\n",
    "scaler.fit(X_train)\n",
    "X_train_scaled = scaler.transform(X_train)\n",
    "X_test_scaled = scaler.transform(X_test)"
   ]
  },
  {
   "cell_type": "code",
   "execution_count": 57,
   "id": "15625c6d",
   "metadata": {
    "id": "15625c6d"
   },
   "outputs": [],
   "source": [
    "from sklearn.linear_model import LinearRegression\n",
    "from sklearn.preprocessing import PolynomialFeatures\n",
    "from sklearn.linear_model import Ridge\n",
    "from sklearn.linear_model import Lasso\n",
    "from sklearn.neural_network import MLPRegressor"
   ]
  },
  {
   "cell_type": "code",
   "execution_count": 58,
   "id": "b6dcc9c5",
   "metadata": {
    "id": "b6dcc9c5"
   },
   "outputs": [],
   "source": [
    "from sklearn.metrics import mean_absolute_percentage_error\n",
    "from sklearn.metrics import mean_squared_error\n",
    "from sklearn.metrics import r2_score"
   ]
  },
  {
   "cell_type": "code",
   "execution_count": 59,
   "id": "4c023625",
   "metadata": {
    "id": "4c023625"
   },
   "outputs": [],
   "source": [
    "from sklearn.model_selection import GridSearchCV"
   ]
  },
  {
   "cell_type": "code",
   "execution_count": 60,
   "id": "2a20eb2a",
   "metadata": {
    "id": "2a20eb2a"
   },
   "outputs": [],
   "source": [
    "param_grid = {'alpha':[.0001, 0.001, 0.01, 0.1, 1]}"
   ]
  },
  {
   "cell_type": "code",
   "execution_count": 61,
   "id": "97af80dd",
   "metadata": {
    "id": "97af80dd",
    "outputId": "4539445c-b9ee-4a29-8f78-1d1cf65e4eee"
   },
   "outputs": [
    {
     "data": {
      "text/plain": [
       "GridSearchCV(estimator=Ridge(),\n",
       "             param_grid={'alpha': [0.0001, 0.001, 0.01, 0.1, 1]}, scoring='r2')"
      ]
     },
     "execution_count": 61,
     "metadata": {},
     "output_type": "execute_result"
    }
   ],
   "source": [
    "grid = GridSearchCV(Ridge(), param_grid, scoring='r2')\n",
    "grid.fit(X_train_scaled, y_train)"
   ]
  },
  {
   "cell_type": "code",
   "execution_count": 62,
   "id": "da5af452",
   "metadata": {
    "id": "da5af452",
    "outputId": "8d29a988-d9ba-4300-bd8c-b36440d77b78"
   },
   "outputs": [
    {
     "name": "stdout",
     "output_type": "stream",
     "text": [
      "{'alpha': 1}\n"
     ]
    }
   ],
   "source": [
    "print(grid.best_params_)"
   ]
  },
  {
   "cell_type": "code",
   "execution_count": 63,
   "id": "fc84fd67",
   "metadata": {},
   "outputs": [],
   "source": [
    "from sklearn.metrics import make_scorer\n",
    "import numpy as np\n",
    "\n",
    "# Define custom MAPE scoring function\n",
    "def mape(y_true, y_pred):\n",
    "    return np.mean(np.abs((y_true - y_pred) / y_true)) * 100\n",
    "\n",
    "# Make it a scorer using make_scorer\n",
    "mape_scorer = make_scorer(mape, greater_is_better=False)"
   ]
  },
  {
   "cell_type": "code",
   "execution_count": 64,
   "id": "d4c90753",
   "metadata": {
    "id": "d4c90753",
    "outputId": "ee0335ca-6d2c-477a-fecf-e2a0bfdd28b4"
   },
   "outputs": [
    {
     "data": {
      "text/plain": [
       "GridSearchCV(estimator=Lasso(),\n",
       "             param_grid={'alpha': [0.0001, 0.001, 0.01, 0.1, 1]},\n",
       "             scoring=make_scorer(mape, greater_is_better=False))"
      ]
     },
     "execution_count": 64,
     "metadata": {},
     "output_type": "execute_result"
    }
   ],
   "source": [
    "grid = GridSearchCV(Lasso(), param_grid, scoring=mape_scorer)\n",
    "grid.fit(X_train_scaled, y_train)"
   ]
  },
  {
   "cell_type": "code",
   "execution_count": 65,
   "id": "1b99d400",
   "metadata": {
    "id": "1b99d400",
    "outputId": "8560d723-6fc9-4deb-8d59-5e9e52c3b125"
   },
   "outputs": [
    {
     "name": "stdout",
     "output_type": "stream",
     "text": [
      "{'alpha': 0.0001}\n"
     ]
    }
   ],
   "source": [
    "print(grid.best_params_)"
   ]
  },
  {
   "cell_type": "code",
   "execution_count": 66,
   "id": "40c01583",
   "metadata": {
    "id": "40c01583"
   },
   "outputs": [],
   "source": [
    "models = {\n",
    "    'Linear Regression': LinearRegression(),\n",
    "    'Polynominal Features': LinearRegression(),\n",
    "    'Ridge Regression': Ridge(alpha=1),\n",
    "    'Lasso Regression': Lasso(alpha=0.0001),\n",
    "    'neural_network': MLPRegressor()\n",
    "}"
   ]
  },
  {
   "cell_type": "code",
   "execution_count": 67,
   "id": "6af76e74",
   "metadata": {
    "id": "6af76e74"
   },
   "outputs": [],
   "source": [
    "def model_test(model, X_train, X_test, y_train, y_test):\n",
    "\n",
    "    model.fit(X_train, y_train)\n",
    "    y_test_predicted = model.predict(X_test)\n",
    "    y_train_predicted = model.predict(X_train)\n",
    "\n",
    "    score = []\n",
    "    score.append(mean_absolute_percentage_error(y_test, y_test_predicted))\n",
    "    score.append(mean_absolute_percentage_error(y_train, y_train_predicted))\n",
    "    score.append(mean_squared_error(y_test, y_test_predicted)**0.5)\n",
    "    score.append(mean_squared_error(y_train, y_train_predicted)**0.5)\n",
    "    score.append(r2_score(y_test, y_test_predicted))\n",
    "    score.append(r2_score(y_train, y_train_predicted))\n",
    "\n",
    "    return score"
   ]
  },
  {
   "cell_type": "code",
   "execution_count": 68,
   "id": "f293c5ee",
   "metadata": {},
   "outputs": [],
   "source": [
    "df1 = pd.DataFrame(index = ['mape_test', 'mape_train', 'rmse_test', 'rmse_train', 'R_squared_test', 'R_squared_train'])"
   ]
  },
  {
   "cell_type": "code",
   "execution_count": 69,
   "id": "881e3eaa",
   "metadata": {
    "id": "881e3eaa"
   },
   "outputs": [],
   "source": [
    "for name, model in models.items():\n",
    "    if name == 'Polynominal Features':\n",
    "        poly_features = PolynomialFeatures(degree=2)\n",
    "        X_train_poly = poly_features.fit_transform(X_train_scaled)\n",
    "        X_test_poly = poly_features.fit_transform(X_test_scaled)\n",
    "        df1[name] = model_test(model, X_train_poly, X_test_poly, y_train, y_test)\n",
    "    else:\n",
    "        df1[name] = model_test(model, X_train_scaled, X_test_scaled, y_train, y_test)"
   ]
  },
  {
   "cell_type": "code",
   "execution_count": 70,
   "id": "022ade35",
   "metadata": {
    "id": "022ade35",
    "outputId": "5af57ce3-96e0-4116-8a8b-6847d83c5ab8"
   },
   "outputs": [
    {
     "data": {
      "text/html": [
       "<div>\n",
       "<style scoped>\n",
       "    .dataframe tbody tr th:only-of-type {\n",
       "        vertical-align: middle;\n",
       "    }\n",
       "\n",
       "    .dataframe tbody tr th {\n",
       "        vertical-align: top;\n",
       "    }\n",
       "\n",
       "    .dataframe thead th {\n",
       "        text-align: right;\n",
       "    }\n",
       "</style>\n",
       "<table border=\"1\" class=\"dataframe\">\n",
       "  <thead>\n",
       "    <tr style=\"text-align: right;\">\n",
       "      <th></th>\n",
       "      <th>Linear Regression</th>\n",
       "      <th>Polynominal Features</th>\n",
       "      <th>Ridge Regression</th>\n",
       "      <th>Lasso Regression</th>\n",
       "      <th>neural_network</th>\n",
       "    </tr>\n",
       "  </thead>\n",
       "  <tbody>\n",
       "    <tr>\n",
       "      <th>mape_test</th>\n",
       "      <td>0.288140</td>\n",
       "      <td>0.288134</td>\n",
       "      <td>0.288140</td>\n",
       "      <td>0.288141</td>\n",
       "      <td>0.284696</td>\n",
       "    </tr>\n",
       "    <tr>\n",
       "      <th>mape_train</th>\n",
       "      <td>0.287582</td>\n",
       "      <td>0.287556</td>\n",
       "      <td>0.287582</td>\n",
       "      <td>0.287583</td>\n",
       "      <td>0.284143</td>\n",
       "    </tr>\n",
       "    <tr>\n",
       "      <th>rmse_test</th>\n",
       "      <td>0.028871</td>\n",
       "      <td>0.028871</td>\n",
       "      <td>0.028871</td>\n",
       "      <td>0.028871</td>\n",
       "      <td>0.028896</td>\n",
       "    </tr>\n",
       "    <tr>\n",
       "      <th>rmse_train</th>\n",
       "      <td>0.028859</td>\n",
       "      <td>0.028858</td>\n",
       "      <td>0.028859</td>\n",
       "      <td>0.028859</td>\n",
       "      <td>0.028887</td>\n",
       "    </tr>\n",
       "    <tr>\n",
       "      <th>R_squared_test</th>\n",
       "      <td>0.000003</td>\n",
       "      <td>-0.000015</td>\n",
       "      <td>0.000005</td>\n",
       "      <td>-0.000001</td>\n",
       "      <td>-0.001791</td>\n",
       "    </tr>\n",
       "    <tr>\n",
       "      <th>R_squared_train</th>\n",
       "      <td>0.000005</td>\n",
       "      <td>0.000083</td>\n",
       "      <td>0.000005</td>\n",
       "      <td>0.000000</td>\n",
       "      <td>-0.001881</td>\n",
       "    </tr>\n",
       "  </tbody>\n",
       "</table>\n",
       "</div>"
      ],
      "text/plain": [
       "                 Linear Regression  Polynominal Features  Ridge Regression  \\\n",
       "mape_test                 0.288140              0.288134          0.288140   \n",
       "mape_train                0.287582              0.287556          0.287582   \n",
       "rmse_test                 0.028871              0.028871          0.028871   \n",
       "rmse_train                0.028859              0.028858          0.028859   \n",
       "R_squared_test            0.000003             -0.000015          0.000005   \n",
       "R_squared_train           0.000005              0.000083          0.000005   \n",
       "\n",
       "                 Lasso Regression  neural_network  \n",
       "mape_test                0.288141        0.284696  \n",
       "mape_train               0.287583        0.284143  \n",
       "rmse_test                0.028871        0.028896  \n",
       "rmse_train               0.028859        0.028887  \n",
       "R_squared_test          -0.000001       -0.001791  \n",
       "R_squared_train          0.000000       -0.001881  "
      ]
     },
     "execution_count": 70,
     "metadata": {},
     "output_type": "execute_result"
    }
   ],
   "source": [
    "df1"
   ]
  },
  {
   "cell_type": "code",
   "execution_count": null,
   "id": "1aa731e1",
   "metadata": {
    "id": "1aa731e1"
   },
   "outputs": [],
   "source": []
  }
 ],
 "metadata": {
  "colab": {
   "provenance": []
  },
  "kernelspec": {
   "display_name": "Python 3 (ipykernel)",
   "language": "python",
   "name": "python3"
  },
  "language_info": {
   "codemirror_mode": {
    "name": "ipython",
    "version": 3
   },
   "file_extension": ".py",
   "mimetype": "text/x-python",
   "name": "python",
   "nbconvert_exporter": "python",
   "pygments_lexer": "ipython3",
   "version": "3.11.7"
  }
 },
 "nbformat": 4,
 "nbformat_minor": 5
}
